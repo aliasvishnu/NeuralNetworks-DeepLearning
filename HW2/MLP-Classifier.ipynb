{
 "cells": [
  {
   "cell_type": "code",
   "execution_count": 1,
   "metadata": {
    "collapsed": true
   },
   "outputs": [],
   "source": [
    "import numpy as np\n",
    "import random\n",
    "from mnist import MNIST\n",
    "import matplotlib.pyplot as plt"
   ]
  },
  {
   "cell_type": "code",
   "execution_count": 3,
   "metadata": {
    "collapsed": false
   },
   "outputs": [],
   "source": []
  },
  {
   "cell_type": "code",
   "execution_count": 14,
   "metadata": {
    "collapsed": false
   },
   "outputs": [],
   "source": [
    "class Dense:\n",
    "    activation = None\n",
    "    numberOfNeurons = None\n",
    "    weights = None\n",
    "    shape = None\n",
    "    bias = None\n",
    "    delta = None\n",
    "    \n",
    "    def sigmoid(self, x):\n",
    "        return 1.0/(1+np.exp(-x))\n",
    "    \n",
    "    def nonLinear(self, data):\n",
    "        if(activation == 'sigmoid'):\n",
    "            return  self.sigmoid(data)\n",
    "        elif(activation == 'softmax'):\n",
    "            # Has to be changed\n",
    "            return data       \n",
    "        return data\n",
    "    \n",
    "    def fetchWeights(self, shape, mode = 'normal'):        \n",
    "        if(mode == 'xavier'):\n",
    "            var = 1.0/np.sum(shape)\n",
    "        else:\n",
    "            var = 1        # Normal case\n",
    "            \n",
    "        self.bias = np.sqrt(var)*np.random.rand()\n",
    "        print \"Shape = \", np.product(shape)\n",
    "#         print np.random.rand(0, np)\n",
    "        \n",
    "        return np.sqrt(var)*np.random.randn(np.product(shape)).reshape(shape)\n",
    "    \n",
    "    def __init__(self, activation = 'sigmoid', initMode = 'normal', shape = None):\n",
    "        self.activation = activation\n",
    "        self.numberOfNeurons = shape[1]\n",
    "        self.shape = shape\n",
    "        # self.bias defined in fetchWeights\n",
    "        self.weights = self.fetchWeights(shape, mode = initMode)\n",
    "        \n",
    "    def forwardPropagate(self, data):\n",
    "        data = np.dot(data, self.weights) +  self.bias\n",
    "        data = np.nonLinear(data)\n",
    "        return data"
   ]
  },
  {
   "cell_type": "code",
   "execution_count": 18,
   "metadata": {
    "collapsed": true
   },
   "outputs": [],
   "source": [
    "class Model:\n",
    "    architecture = []\n",
    "    \n",
    "#     def add(self, act = 'sigmoid', n = 1, init = 'normal', shape = None):\n",
    "# #         s = None\n",
    "# #         if(architecture == [] and shape = None):\n",
    "# #             print \"Error, Model needs shape in first layer\"\n",
    "# #         elif(shape != None):\n",
    "# #             s = shape\n",
    "# #         else:\n",
    "# #             s = (architecture[-1].numberOfNeurons+1, n)\n",
    "        \n",
    "# #         newLayer = Dense(activation = act, initMode = init, shape = s)\n",
    "#         self.architecture.append(newLayer)\n",
    "    def add(self, layer):\n",
    "        self.architecture.append(layer)\n",
    "    \n",
    "    def train(trainX = None, trainY = None):\n",
    "        numOfLayers = len(self.architecture)\n",
    "        transform = trainX\n",
    "        for layer in range(numOfLayers):\n",
    "            transform = self.architecture[layer].forwardPropagate(transform)\n",
    "        \n",
    "        print transform\n",
    "#         self.computeDelta()\n",
    "        "
   ]
  },
  {
   "cell_type": "code",
   "execution_count": 22,
   "metadata": {
    "collapsed": false
   },
   "outputs": [
    {
     "name": "stdout",
     "output_type": "stream",
     "text": [
      "Shape =  47040000\n"
     ]
    },
    {
     "ename": "MemoryError",
     "evalue": "",
     "output_type": "error",
     "traceback": [
      "\u001b[1;31m---------------------------------------------------------------------------\u001b[0m",
      "\u001b[1;31mMemoryError\u001b[0m                               Traceback (most recent call last)",
      "\u001b[1;32m<ipython-input-22-c6c3373e9a8f>\u001b[0m in \u001b[0;36m<module>\u001b[1;34m()\u001b[0m\n\u001b[0;32m      5\u001b[0m \u001b[1;33m\u001b[0m\u001b[0m\n\u001b[0;32m      6\u001b[0m     \u001b[0mmodel\u001b[0m \u001b[1;33m=\u001b[0m \u001b[0mModel\u001b[0m\u001b[1;33m(\u001b[0m\u001b[1;33m)\u001b[0m\u001b[1;33m\u001b[0m\u001b[0m\n\u001b[1;32m----> 7\u001b[1;33m     \u001b[0mlayer\u001b[0m \u001b[1;33m=\u001b[0m \u001b[0mDense\u001b[0m\u001b[1;33m(\u001b[0m\u001b[0mactivation\u001b[0m \u001b[1;33m=\u001b[0m \u001b[1;34m'sigmoid'\u001b[0m\u001b[1;33m,\u001b[0m \u001b[0mshape\u001b[0m \u001b[1;33m=\u001b[0m \u001b[0mtrainX\u001b[0m\u001b[1;33m.\u001b[0m\u001b[0mshape\u001b[0m\u001b[1;33m)\u001b[0m\u001b[1;33m\u001b[0m\u001b[0m\n\u001b[0m\u001b[0;32m      8\u001b[0m \u001b[1;31m#     print layer.activation, layer.numberOfNeurons, layer.weights, layer.shape, layer.bias, layer.delta\u001b[0m\u001b[1;33m\u001b[0m\u001b[1;33m\u001b[0m\u001b[0m\n\u001b[0;32m      9\u001b[0m \u001b[1;31m#     model.add()\u001b[0m\u001b[1;33m\u001b[0m\u001b[1;33m\u001b[0m\u001b[0m\n",
      "\u001b[1;32m<ipython-input-14-52ed538da37a>\u001b[0m in \u001b[0;36m__init__\u001b[1;34m(self, activation, initMode, shape)\u001b[0m\n\u001b[0;32m     35\u001b[0m         \u001b[0mself\u001b[0m\u001b[1;33m.\u001b[0m\u001b[0mshape\u001b[0m \u001b[1;33m=\u001b[0m \u001b[0mshape\u001b[0m\u001b[1;33m\u001b[0m\u001b[0m\n\u001b[0;32m     36\u001b[0m         \u001b[1;31m# self.bias defined in fetchWeights\u001b[0m\u001b[1;33m\u001b[0m\u001b[1;33m\u001b[0m\u001b[0m\n\u001b[1;32m---> 37\u001b[1;33m         \u001b[0mself\u001b[0m\u001b[1;33m.\u001b[0m\u001b[0mweights\u001b[0m \u001b[1;33m=\u001b[0m \u001b[0mself\u001b[0m\u001b[1;33m.\u001b[0m\u001b[0mfetchWeights\u001b[0m\u001b[1;33m(\u001b[0m\u001b[0mshape\u001b[0m\u001b[1;33m,\u001b[0m \u001b[0mmode\u001b[0m \u001b[1;33m=\u001b[0m \u001b[0minitMode\u001b[0m\u001b[1;33m)\u001b[0m\u001b[1;33m\u001b[0m\u001b[0m\n\u001b[0m\u001b[0;32m     38\u001b[0m \u001b[1;33m\u001b[0m\u001b[0m\n\u001b[0;32m     39\u001b[0m     \u001b[1;32mdef\u001b[0m \u001b[0mforwardPropagate\u001b[0m\u001b[1;33m(\u001b[0m\u001b[0mself\u001b[0m\u001b[1;33m,\u001b[0m \u001b[0mdata\u001b[0m\u001b[1;33m)\u001b[0m\u001b[1;33m:\u001b[0m\u001b[1;33m\u001b[0m\u001b[0m\n",
      "\u001b[1;32m<ipython-input-14-52ed538da37a>\u001b[0m in \u001b[0;36mfetchWeights\u001b[1;34m(self, shape, mode)\u001b[0m\n\u001b[0;32m     28\u001b[0m \u001b[1;31m#         print np.random.rand(0, np)\u001b[0m\u001b[1;33m\u001b[0m\u001b[1;33m\u001b[0m\u001b[0m\n\u001b[0;32m     29\u001b[0m \u001b[1;33m\u001b[0m\u001b[0m\n\u001b[1;32m---> 30\u001b[1;33m         \u001b[1;32mreturn\u001b[0m \u001b[0mnp\u001b[0m\u001b[1;33m.\u001b[0m\u001b[0msqrt\u001b[0m\u001b[1;33m(\u001b[0m\u001b[0mvar\u001b[0m\u001b[1;33m)\u001b[0m\u001b[1;33m*\u001b[0m\u001b[0mnp\u001b[0m\u001b[1;33m.\u001b[0m\u001b[0mrandom\u001b[0m\u001b[1;33m.\u001b[0m\u001b[0mrandn\u001b[0m\u001b[1;33m(\u001b[0m\u001b[0mnp\u001b[0m\u001b[1;33m.\u001b[0m\u001b[0mproduct\u001b[0m\u001b[1;33m(\u001b[0m\u001b[0mshape\u001b[0m\u001b[1;33m)\u001b[0m\u001b[1;33m)\u001b[0m\u001b[1;33m.\u001b[0m\u001b[0mreshape\u001b[0m\u001b[1;33m(\u001b[0m\u001b[0mshape\u001b[0m\u001b[1;33m)\u001b[0m\u001b[1;33m\u001b[0m\u001b[0m\n\u001b[0m\u001b[0;32m     31\u001b[0m \u001b[1;33m\u001b[0m\u001b[0m\n\u001b[0;32m     32\u001b[0m     \u001b[1;32mdef\u001b[0m \u001b[0m__init__\u001b[0m\u001b[1;33m(\u001b[0m\u001b[0mself\u001b[0m\u001b[1;33m,\u001b[0m \u001b[0mactivation\u001b[0m \u001b[1;33m=\u001b[0m \u001b[1;34m'sigmoid'\u001b[0m\u001b[1;33m,\u001b[0m \u001b[0minitMode\u001b[0m \u001b[1;33m=\u001b[0m \u001b[1;34m'normal'\u001b[0m\u001b[1;33m,\u001b[0m \u001b[0mshape\u001b[0m \u001b[1;33m=\u001b[0m \u001b[0mNone\u001b[0m\u001b[1;33m)\u001b[0m\u001b[1;33m:\u001b[0m\u001b[1;33m\u001b[0m\u001b[0m\n",
      "\u001b[1;31mMemoryError\u001b[0m: "
     ]
    }
   ],
   "source": [
    "if __name__ == '__main__':\n",
    "#     mndata = MNIST('../HW1/Dataset')\n",
    "#     trainX = np.array(mndata.load_training()[0])\n",
    "#     trainY = np.array(mndata.load_training()[1])\n",
    "    \n",
    "    model = Model()\n",
    "    layer = Dense(activation = 'sigmoid', shape = trainX.shape)\n",
    "    print layer.activation, layer.numberOfNeurons, layer.weights, layer.shape, layer.bias, layer.delta\n",
    "#     model.add()\n",
    "    layer.forwardPropagate(trainX)\n",
    "#     model.train(trainX, trainY)"
   ]
  },
  {
   "cell_type": "code",
   "execution_count": null,
   "metadata": {
    "collapsed": true
   },
   "outputs": [],
   "source": []
  }
 ],
 "metadata": {
  "kernelspec": {
   "display_name": "Python [Root]",
   "language": "python",
   "name": "Python [Root]"
  },
  "language_info": {
   "codemirror_mode": {
    "name": "ipython",
    "version": 2
   },
   "file_extension": ".py",
   "mimetype": "text/x-python",
   "name": "python",
   "nbconvert_exporter": "python",
   "pygments_lexer": "ipython2",
   "version": "2.7.12"
  }
 },
 "nbformat": 4,
 "nbformat_minor": 0
}
