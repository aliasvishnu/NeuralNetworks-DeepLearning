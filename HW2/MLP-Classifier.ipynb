{
 "cells": [
  {
   "cell_type": "code",
   "execution_count": 1,
   "metadata": {
    "collapsed": true
   },
   "outputs": [],
   "source": [
    "import numpy as np\n",
    "import random\n",
    "from mnist import MNIST\n",
    "import matplotlib.pyplot as plt"
   ]
  },
  {
   "cell_type": "code",
   "execution_count": 3,
   "metadata": {
    "collapsed": false
   },
   "outputs": [],
   "source": [
    "mndata = MNIST('../HW1/Dataset')\n",
    "trainX = np.array(mndata.load_training()[0])\n",
    "trainY = np.array(mndata.load_training()[1])"
   ]
  },
  {
   "cell_type": "code",
   "execution_count": null,
   "metadata": {
    "collapsed": true
   },
   "outputs": [],
   "source": [
    "class Dense:\n",
    "    activation = None\n",
    "    numberOfNeurons = None\n",
    "    weights = None\n",
    "    shape = None\n",
    "    bias = None\n",
    "    \n",
    "    def fetchWeights(shape, mode = 'normal'):        \n",
    "        if(mode = 'xavier'):\n",
    "            var = 1.0/np.sum(shape)\n",
    "        else:\n",
    "            var = 1        # Normal case\n",
    "            \n",
    "        self.bias = np.sqrt(var)*np.random.rand()\n",
    "        return np.sqrt(var)*np.random.randn(0, np.product(shape)).reshape(shape)\n",
    "    \n",
    "    def __init__(self, activation = 'sigmoid', initMode = 'normal', shape = None):\n",
    "        self.activation = activation\n",
    "        self.numberOfNeurons = shape[1]\n",
    "        self.shape = shape\n",
    "        # self.bias defined in fetchWeights\n",
    "        self.weights = self.fetchWeights(shape, mode = initMode)"
   ]
  },
  {
   "cell_type": "code",
   "execution_count": null,
   "metadata": {
    "collapsed": true
   },
   "outputs": [],
   "source": [
    "class Model:\n",
    "    architecture = []\n",
    "    \n",
    "    def add(self, act = 'sigmoid', n = 1, init = 'normal', shape = None):\n",
    "        s = None\n",
    "        if(architecture == [] and shape = None):\n",
    "            print \"Error, Model needs shape in first layer\"\n",
    "        elif(shape != None):\n",
    "            s = shape\n",
    "        else:\n",
    "            s = (architecture[-1].numberOfNeurons+1, n)\n",
    "        \n",
    "        newLayer = Dense(activation = act, initMode = init, shape = s)\n",
    "        self.architecture.append(newLayer)\n",
    "    \n",
    "    def train(trainX = None, trainY = None):\n",
    "        numOfLayers = len(self.architecture)\n",
    "        transform = \n",
    "        for layer in range(numOfLayers):\n",
    "            \n",
    "        "
   ]
  }
 ],
 "metadata": {
  "kernelspec": {
   "display_name": "Python [Root]",
   "language": "python",
   "name": "Python [Root]"
  },
  "language_info": {
   "codemirror_mode": {
    "name": "ipython",
    "version": 2
   },
   "file_extension": ".py",
   "mimetype": "text/x-python",
   "name": "python",
   "nbconvert_exporter": "python",
   "pygments_lexer": "ipython2",
   "version": "2.7.12"
  }
 },
 "nbformat": 4,
 "nbformat_minor": 0
}
