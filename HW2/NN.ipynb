{
 "cells": [
  {
   "cell_type": "code",
   "execution_count": 11,
   "metadata": {
    "collapsed": false
   },
   "outputs": [],
   "source": [
    "import numpy as np\n",
    "import random\n",
    "from mnist import MNIST\n",
    "import matplotlib.pyplot as plt"
   ]
  },
  {
   "cell_type": "code",
   "execution_count": 30,
   "metadata": {
    "collapsed": false
   },
   "outputs": [],
   "source": [
    "mndata = MNIST('../HW1/Dataset')\n",
    "trainX = np.array(mndata.load_training()[0])[:10000]/255\n",
    "trainY = np.array(mndata.load_training()[1])[:10000]"
   ]
  },
  {
   "cell_type": "code",
   "execution_count": 31,
   "metadata": {
    "collapsed": false
   },
   "outputs": [],
   "source": [
    "y = np.zeros((len(trainY), 10))\n",
    "for i in range(len(trainY)):\n",
    "    y[i][trainY[i]-1] = 1"
   ]
  },
  {
   "cell_type": "code",
   "execution_count": 61,
   "metadata": {
    "collapsed": false
   },
   "outputs": [
    {
     "name": "stdout",
     "output_type": "stream",
     "text": [
      "0\n",
      "(10000, 10)\n",
      "(10000, 15)\n",
      "(15, 10)\n",
      "(10000, 15)\n",
      "1\n",
      "(10000, 10)\n",
      "(10000, 15)\n",
      "(15, 10)\n",
      "(10000, 15)\n",
      "2\n",
      "(10000, 10)\n",
      "(10000, 15)\n",
      "(15, 10)\n",
      "(10000, 15)\n"
     ]
    },
    {
     "name": "stderr",
     "output_type": "stream",
     "text": [
      "/home/sriram/anaconda2/lib/python2.7/site-packages/ipykernel/__main__.py:2: RuntimeWarning: overflow encountered in exp\n",
      "  from ipykernel import kernelapp as app\n"
     ]
    },
    {
     "name": "stdout",
     "output_type": "stream",
     "text": [
      "3\n",
      "(10000, 10)\n",
      "(10000, 15)\n",
      "(15, 10)\n",
      "(10000, 15)\n",
      "4\n",
      "(10000, 10)\n",
      "(10000, 15)\n",
      "(15, 10)\n",
      "(10000, 15)\n",
      "5\n",
      "(10000, 10)\n",
      "(10000, 15)\n",
      "(15, 10)\n",
      "(10000, 15)\n",
      "6\n",
      "(10000, 10)\n",
      "(10000, 15)\n",
      "(15, 10)\n",
      "(10000, 15)\n",
      "7\n",
      "(10000, 10)\n",
      "(10000, 15)\n",
      "(15, 10)\n",
      "(10000, 15)\n",
      "8\n",
      "(10000, 10)\n",
      "(10000, 15)\n",
      "(15, 10)\n",
      "(10000, 15)\n",
      "9\n",
      "(10000, 10)\n",
      "(10000, 15)\n",
      "(15, 10)\n",
      "(10000, 15)\n"
     ]
    },
    {
     "name": "stderr",
     "output_type": "stream",
     "text": [
      "/home/sriram/anaconda2/lib/python2.7/site-packages/ipykernel/__main__.py:5: RuntimeWarning: overflow encountered in multiply\n",
      "/home/sriram/anaconda2/lib/python2.7/site-packages/ipykernel/__main__.py:36: RuntimeWarning: overflow encountered in multiply\n"
     ]
    }
   ],
   "source": [
    "def sigmoid(x):\n",
    "    return 1/(1+np.exp(-x))\n",
    "\n",
    "def grad(x):\n",
    "    return x*(1-x)\n",
    "    \n",
    "# trainX = np.array([[0,0,1], [0,1,1], [1,0,1], [1,1,1]])\n",
    "# trainY = np.array([[0], [1], [1], [0]])\n",
    "\n",
    "np.random.seed(1)\n",
    "lr = 0.0001\n",
    "\n",
    "# randomly initialize our weights with mean 0\n",
    "W1 = 2*np.random.random((784,15)) - 1\n",
    "W2 = 2*np.random.random((15,10)) - 1\n",
    "\n",
    "for j in xrange(1):\n",
    "    print j\n",
    "    A1 = np.dot(trainX, W1)\n",
    "    l1 = sigmoid(A1)\n",
    "    # Append 1's to l1 as last column for bias\n",
    "    \n",
    "    A2 = np.dot(l1, W2)\n",
    "    l2 = sigmoid(A2)\n",
    "\n",
    "    # Errors in output layer\n",
    "    d2 = -1*(y - l2)\n",
    "    print d2.shape\n",
    "        \n",
    "    # Delta of W2\n",
    "    print l1.shape\n",
    "    dW2 = np.dot(l1.T, d2)\n",
    "    print dW2.shape\n",
    "\n",
    "    # Errors in 1st hidden layer\n",
    "    d1 = np.dot(d2, W2.T)*grad(A1)\n",
    "    print d1.shape\n",
    "    \n",
    "    # Delta W2\n",
    "    dW1 = np.dot(trainX.T, d1)\n",
    "\n",
    "    W2 -= lr*dW2\n",
    "    W1 -= lr*dW1"
   ]
  },
  {
   "cell_type": "code",
   "execution_count": 62,
   "metadata": {
    "collapsed": false
   },
   "outputs": [
    {
     "data": {
      "text/plain": [
       "array([[ nan,  nan,  nan,  nan,  nan,  nan,  nan,  nan,  nan,  nan],\n",
       "       [ nan,  nan,  nan,  nan,  nan,  nan,  nan,  nan,  nan,  nan],\n",
       "       [ nan,  nan,  nan,  nan,  nan,  nan,  nan,  nan,  nan,  nan],\n",
       "       [ nan,  nan,  nan,  nan,  nan,  nan,  nan,  nan,  nan,  nan],\n",
       "       [ nan,  nan,  nan,  nan,  nan,  nan,  nan,  nan,  nan,  nan],\n",
       "       [ nan,  nan,  nan,  nan,  nan,  nan,  nan,  nan,  nan,  nan],\n",
       "       [ nan,  nan,  nan,  nan,  nan,  nan,  nan,  nan,  nan,  nan],\n",
       "       [ nan,  nan,  nan,  nan,  nan,  nan,  nan,  nan,  nan,  nan],\n",
       "       [ nan,  nan,  nan,  nan,  nan,  nan,  nan,  nan,  nan,  nan],\n",
       "       [ nan,  nan,  nan,  nan,  nan,  nan,  nan,  nan,  nan,  nan],\n",
       "       [ nan,  nan,  nan,  nan,  nan,  nan,  nan,  nan,  nan,  nan],\n",
       "       [ nan,  nan,  nan,  nan,  nan,  nan,  nan,  nan,  nan,  nan],\n",
       "       [ nan,  nan,  nan,  nan,  nan,  nan,  nan,  nan,  nan,  nan],\n",
       "       [ nan,  nan,  nan,  nan,  nan,  nan,  nan,  nan,  nan,  nan],\n",
       "       [ nan,  nan,  nan,  nan,  nan,  nan,  nan,  nan,  nan,  nan]])"
      ]
     },
     "execution_count": 62,
     "metadata": {},
     "output_type": "execute_result"
    }
   ],
   "source": [
    "W2"
   ]
  },
  {
   "cell_type": "code",
   "execution_count": null,
   "metadata": {
    "collapsed": true
   },
   "outputs": [],
   "source": []
  }
 ],
 "metadata": {
  "kernelspec": {
   "display_name": "Python [Root]",
   "language": "python",
   "name": "Python [Root]"
  },
  "language_info": {
   "codemirror_mode": {
    "name": "ipython",
    "version": 2
   },
   "file_extension": ".py",
   "mimetype": "text/x-python",
   "name": "python",
   "nbconvert_exporter": "python",
   "pygments_lexer": "ipython2",
   "version": "2.7.12"
  }
 },
 "nbformat": 4,
 "nbformat_minor": 0
}
